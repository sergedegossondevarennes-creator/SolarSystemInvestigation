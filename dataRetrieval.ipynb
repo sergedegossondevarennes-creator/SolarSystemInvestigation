{
 "cells": [
  {
   "cell_type": "markdown",
   "metadata": {},
   "source": [
    "# Solar system data retrieval and invetigation"
   ]
  },
  {
   "cell_type": "code",
   "execution_count": 8,
   "metadata": {},
   "outputs": [
    {
     "name": "stdout",
     "output_type": "stream",
     "text": [
      "Fetching data for Sun...\n",
      "Fetching data for Mercury...\n",
      "Fetching data for Venus...\n",
      "Fetching data for Earth...\n",
      "Fetching data for Mars...\n",
      "Fetching data for Jupiter...\n",
      "Fetching data for Saturn...\n",
      "Fetching data for Uranus...\n",
      "Fetching data for Neptune...\n",
      "Fetching data for Pluto...\n"
     ]
    }
   ],
   "source": [
    "import requests\n",
    "import time\n",
    "\n",
    "objects = {\n",
    "    \"Sun\": \"10\",\n",
    "    \"Mercury\": \"199\",\n",
    "    \"Venus\": \"299\",\n",
    "    \"Earth\": \"399\",\n",
    "    \"Mars\": \"499\",\n",
    "    \"Jupiter\": \"599\",\n",
    "    \"Saturn\": \"699\",\n",
    "    \"Uranus\": \"799\",\n",
    "    \"Neptune\": \"899\",\n",
    "    \"Pluto\": \"999\",\n",
    "}\n",
    "\n",
    "def fetch_ephemeris(object_id, start_time, stop_time, step_size=\"1 hour\"):\n",
    "    params = {\n",
    "        \"format\": \"text\",\n",
    "        \"COMMAND\": f\"'{object_id}'\",\n",
    "        \"EPHEM_TYPE\": \"VECTORS\",\n",
    "        \"CENTER\": \"'500@10'\",  \n",
    "        \"START_TIME\": start_time,\n",
    "        \"STOP_TIME\": stop_time,\n",
    "        \"STEP_SIZE\": step_size,\n",
    "        \"OUT_UNITS\": \"KM-S\",\n",
    "        \"CSV_FORMAT\": \"YES\",\n",
    "    }\n",
    "    response = requests.post(\"https://ssd.jpl.nasa.gov/api/horizons.api\", data=params)\n",
    "    if response.status_code == 200:\n",
    "        return response.text\n",
    "    else:\n",
    "        raise Exception(f\"Failed to fetch data for object {object_id}: {response.text}\")\n",
    "\n",
    "start_time = \"2024-01-01\"\n",
    "stop_time = \"2025-12-31\"\n",
    "\n",
    "for name, object_id in objects.items():\n",
    "    try:\n",
    "        print(f\"Fetching data for {name}...\")\n",
    "        data = fetch_ephemeris(object_id, start_time, stop_time)\n",
    "        with open(f\"data/{name}_ephemeris.txt\", \"w\") as file:\n",
    "            file.write(data)\n",
    "        time.sleep(2)  \n",
    "    except Exception as e:\n",
    "        print(e)\n"
   ]
  },
  {
   "cell_type": "code",
   "execution_count": 2,
   "metadata": {},
   "outputs": [
    {
     "data": {
      "text/html": [
       "<div>\n",
       "<style scoped>\n",
       "    .dataframe tbody tr th:only-of-type {\n",
       "        vertical-align: middle;\n",
       "    }\n",
       "\n",
       "    .dataframe tbody tr th {\n",
       "        vertical-align: top;\n",
       "    }\n",
       "\n",
       "    .dataframe thead th {\n",
       "        text-align: right;\n",
       "    }\n",
       "</style>\n",
       "<table border=\"1\" class=\"dataframe\">\n",
       "  <thead>\n",
       "    <tr style=\"text-align: right;\">\n",
       "      <th></th>\n",
       "      <th>Time</th>\n",
       "      <th>X</th>\n",
       "      <th>Y</th>\n",
       "      <th>Z</th>\n",
       "      <th>VX</th>\n",
       "      <th>VY</th>\n",
       "      <th>VZ</th>\n",
       "    </tr>\n",
       "  </thead>\n",
       "  <tbody>\n",
       "  </tbody>\n",
       "</table>\n",
       "</div>"
      ],
      "text/plain": [
       "Empty DataFrame\n",
       "Columns: [Time, X, Y, Z, VX, VY, VZ]\n",
       "Index: []"
      ]
     },
     "execution_count": 2,
     "metadata": {},
     "output_type": "execute_result"
    }
   ],
   "source": [
    "df"
   ]
  },
  {
   "cell_type": "code",
   "execution_count": null,
   "metadata": {},
   "outputs": [],
   "source": []
  }
 ],
 "metadata": {
  "kernelspec": {
   "display_name": "base",
   "language": "python",
   "name": "python3"
  },
  "language_info": {
   "codemirror_mode": {
    "name": "ipython",
    "version": 3
   },
   "file_extension": ".py",
   "mimetype": "text/x-python",
   "name": "python",
   "nbconvert_exporter": "python",
   "pygments_lexer": "ipython3",
   "version": "3.12.2"
  }
 },
 "nbformat": 4,
 "nbformat_minor": 2
}
